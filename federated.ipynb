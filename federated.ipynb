{
 "cells": [
  {
   "cell_type": "code",
   "execution_count": 1,
   "metadata": {},
   "outputs": [],
   "source": [
    "import tensorflow as tf\n",
    "import tensorflow_federated as tff"
   ]
  },
  {
   "cell_type": "code",
   "execution_count": 28,
   "metadata": {},
   "outputs": [],
   "source": [
    "train, test = tff.simulation.datasets.emnist.load_data()"
   ]
  },
  {
   "cell_type": "code",
   "execution_count": 29,
   "metadata": {},
   "outputs": [],
   "source": [
    "def client_data(n:int) -> tf.data.Dataset:\n",
    "    return train.create_tf_dataset_for_client(train.client_ids[n]).map(\n",
    "        lambda e: (tf.reshape(e['pixels'], [-1]), e['label'])).repeat(10).batch(20)\n",
    "train_data = [client_data(i) for i in range(10)]"
   ]
  },
  {
   "cell_type": "code",
   "execution_count": 30,
   "metadata": {},
   "outputs": [],
   "source": [
    "def model_fn() -> tff.learning.Model:\n",
    "    model = tf.keras.models.Sequential([\n",
    "        tf.keras.layers.Dense(64, activation='softmax', input_shape=(784,),kernel_initializer='zeros')\n",
    "    ])\n",
    "    return tff.learning.from_keras_model(model,\n",
    "                                         input_spec=train_data[0].element_spec,\n",
    "                                         loss=tf.keras.losses.SparseCategoricalCrossentropy(),\n",
    "                                         metrics=[tf.keras.metrics.SparseCategoricalAccuracy()])"
   ]
  },
  {
   "cell_type": "code",
   "execution_count": 31,
   "metadata": {},
   "outputs": [],
   "source": [
    "trainer = tff.learning.algorithms.build_weighted_fed_avg(\n",
    "    model_fn,\n",
    "    client_optimizer_fn=lambda: tf.keras.optimizers.SGD(learning_rate=0.1))"
   ]
  },
  {
   "cell_type": "code",
   "execution_count": 32,
   "metadata": {},
   "outputs": [],
   "source": [
    "state = trainer.initialize()"
   ]
  },
  {
   "cell_type": "code",
   "execution_count": 38,
   "metadata": {},
   "outputs": [
    {
     "name": "stdout",
     "output_type": "stream",
     "text": [
      "Client 0 Accuracy: 14.177961349487305\n",
      "Client 1 Accuracy: 14.177961349487305\n",
      "Client 2 Accuracy: 14.177962303161621\n",
      "Client 3 Accuracy: 14.177961349487305\n",
      "Client 4 Accuracy: 14.177962303161621\n",
      "Client 5 Accuracy: 14.177962303161621\n",
      "Client 6 Accuracy: 14.177961349487305\n",
      "Client 7 Accuracy: 14.177961349487305\n",
      "Client 8 Accuracy: 14.177961349487305\n",
      "Client 9 Accuracy: 14.177962303161621\n"
     ]
    }
   ],
   "source": [
    "for i in range(10):\n",
    "    result = trainer.next(state, train_data)\n",
    "    state = result.state\n",
    "    metrics = result.metrics\n",
    "    print(f\"Client {i} Loss: {metrics['client_work']['train']['loss']}\")"
   ]
  },
  {
   "cell_type": "code",
   "execution_count": null,
   "metadata": {},
   "outputs": [],
   "source": []
  }
 ],
 "metadata": {
  "kernelspec": {
   "display_name": "env-tff3.9",
   "language": "python",
   "name": "python3"
  },
  "language_info": {
   "codemirror_mode": {
    "name": "ipython",
    "version": 3
   },
   "file_extension": ".py",
   "mimetype": "text/x-python",
   "name": "python",
   "nbconvert_exporter": "python",
   "pygments_lexer": "ipython3",
   "version": "3.9.16"
  },
  "orig_nbformat": 4,
  "vscode": {
   "interpreter": {
    "hash": "5f869b07464380aed8a74cbab2cbcd955c60d5d8fe80f858c6bd617a8cebcf8f"
   }
  }
 },
 "nbformat": 4,
 "nbformat_minor": 2
}
