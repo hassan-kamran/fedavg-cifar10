{
 "cells": [
  {
   "cell_type": "code",
   "execution_count": 1,
   "metadata": {},
   "outputs": [],
   "source": [
    "import tensorflow as tf\n",
    "import tensorflow_federated as tff\n",
    "import numpy as np"
   ]
  },
  {
   "cell_type": "code",
   "execution_count": 2,
   "metadata": {},
   "outputs": [],
   "source": [
    "cifar = tf.keras.datasets.cifar10\n",
    "(train_images, train_labels), (test_images, test_labels) = cifar.load_data()"
   ]
  },
  {
   "cell_type": "code",
   "execution_count": 3,
   "metadata": {},
   "outputs": [],
   "source": [
    "def process_data(images, labels, splits):\n",
    "    images = images.reshape(images.shape[0], 32, 32, 3)\n",
    "    images = images.astype('float32')\n",
    "    images /= 255\n",
    "    labels = labels.astype(np.int32)\n",
    "    labels = tf.one_hot(tf.constant(labels), 10)\n",
    "    if splits == 0:\n",
    "        labels = np.array(labels)\n",
    "        labels = labels.reshape(labels.shape[0], 10)\n",
    "        return images, labels\n",
    "    else:\n",
    "        split_images = np.array_split(images, splits)\n",
    "        split_labels = np.array_split(labels, splits)\n",
    "        reshaped_labels = []\n",
    "        for label_portion in split_labels:\n",
    "            reshaped_labels.append(label_portion.reshape(label_portion.shape[0], 10))\n",
    "    return split_images, reshaped_labels\n",
    "\n",
    "def model():\n",
    "    input_shape = (32, 32, 3)\n",
    "    inputs = tf.keras.layers.Input(shape=input_shape)\n",
    "    x = tf.keras.layers.Conv2D(32, (3, 3), activation='relu')(inputs)\n",
    "    x = tf.keras.layers.MaxPooling2D((2, 2))(x)\n",
    "    x = tf.keras.layers.Flatten()(x)\n",
    "    x = tf.keras.layers.Dense(64, activation='relu')(x)\n",
    "    outputs = tf.keras.layers.Dense(10, activation='softmax')(x)\n",
    "    model = tf.keras.models.Model(inputs, outputs)\n",
    "    model.compile(optimizer='adam', loss='categorical_crossentropy', metrics=['accuracy'])\n",
    "    return model\n",
    "\n",
    "def federated_average(weight1, weight2):\n",
    "    new_weights = np.array(weight1) + np.array(weight2)\n",
    "    new_weights = new_weights / 2\n",
    "    return new_weights.tolist()"
   ]
  },
  {
   "cell_type": "code",
   "execution_count": 4,
   "metadata": {},
   "outputs": [
    {
     "name": "stdout",
     "output_type": "stream",
     "text": [
      "Metal device set to: Apple M1 Pro\n",
      "\n",
      "systemMemory: 16.00 GB\n",
      "maxCacheSize: 5.33 GB\n",
      "\n"
     ]
    },
    {
     "name": "stderr",
     "output_type": "stream",
     "text": [
      "2023-02-24 13:37:08.171192: W tensorflow/core/platform/profile_utils/cpu_utils.cc:128] Failed to get CPU frequency: 0 Hz\n"
     ]
    },
    {
     "name": "stdout",
     "output_type": "stream",
     "text": [
      "521/521 [==============================] - 7s 12ms/step - loss: 1.7990 - accuracy: 0.3470\n",
      "521/521 [==============================] - 6s 12ms/step - loss: 1.4420 - accuracy: 0.4819\n",
      "521/521 [==============================] - 6s 12ms/step - loss: 1.4587 - accuracy: 0.4830\n"
     ]
    },
    {
     "name": "stderr",
     "output_type": "stream",
     "text": [
      "/var/folders/wg/0kpf4bq56tn3zqg0vq6863980000gn/T/ipykernel_23064/3882461726.py:32: VisibleDeprecationWarning: Creating an ndarray from ragged nested sequences (which is a list-or-tuple of lists-or-tuples-or ndarrays with different lengths or shapes) is deprecated. If you meant to do this, you must specify 'dtype=object' when creating the ndarray.\n",
      "  new_weights = np.array(weight1) + np.array(weight2)\n"
     ]
    },
    {
     "name": "stdout",
     "output_type": "stream",
     "text": [
      "313/313 [==============================] - 3s 9ms/step - loss: 1.3524 - accuracy: 0.5148\n"
     ]
    }
   ],
   "source": [
    "split_images, split_labels = process_data(train_images, train_labels,3)\n",
    "\n",
    "server_model = model()\n",
    "client_1 = model()\n",
    "client_2 = model()\n",
    "\n",
    "server_model.fit(split_images[0], split_labels[0], epochs=1)\n",
    "server_weights = server_model.get_weights()\n",
    "\n",
    "client_1.set_weights(server_weights)\n",
    "client_2.set_weights(server_weights)\n",
    "\n",
    "client_1.fit(split_images[1], split_labels[1], epochs=1)\n",
    "client_1_weights = client_1.get_weights()\n",
    "\n",
    "client_2.fit(split_images[2], split_labels[2], epochs=1)\n",
    "client_2_weights = client_2.get_weights()\n",
    "\n",
    "global_update = federated_average(client_1_weights,client_2_weights)\n",
    "server_model.set_weights(global_update)\n",
    "test_images_proc, test_labels_proc = process_data(test_images, test_labels,0)\n",
    "loss, accuracy = server_model.evaluate(test_images_proc, test_labels_proc)"
   ]
  },
  {
   "cell_type": "code",
   "execution_count": null,
   "metadata": {},
   "outputs": [],
   "source": []
  }
 ],
 "metadata": {
  "kernelspec": {
   "display_name": "env-tff3.9",
   "language": "python",
   "name": "python3"
  },
  "language_info": {
   "codemirror_mode": {
    "name": "ipython",
    "version": 3
   },
   "file_extension": ".py",
   "mimetype": "text/x-python",
   "name": "python",
   "nbconvert_exporter": "python",
   "pygments_lexer": "ipython3",
   "version": "3.9.16"
  },
  "orig_nbformat": 4,
  "vscode": {
   "interpreter": {
    "hash": "5f869b07464380aed8a74cbab2cbcd955c60d5d8fe80f858c6bd617a8cebcf8f"
   }
  }
 },
 "nbformat": 4,
 "nbformat_minor": 2
}
