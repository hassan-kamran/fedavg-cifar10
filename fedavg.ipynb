{
 "cells": [
  {
   "cell_type": "code",
   "execution_count": null,
   "metadata": {},
   "outputs": [],
   "source": [
    "import tensorflow as tf\n",
    "import numpy as np\n",
    "import matplotlib.pyplot as plt\n",
    "from tensorflow.keras.layers import Input, Conv2D, MaxPooling2D, Flatten, Dense\n",
    "from tensorflow.keras.models import Model"
   ]
  },
  {
   "cell_type": "code",
   "execution_count": null,
   "metadata": {},
   "outputs": [],
   "source": [
    "cifar = tf.keras.datasets.cifar10\n",
    "(train_images, train_labels), (test_images, test_labels) = cifar.load_data()\n",
    "print('Training:\\timg:{}\\tlabel:{}\\nTesting:\\timg:{}\\tlabel:{}\\n'.format(train_images.shape,train_labels.shape,test_images.shape,test_labels.shape))"
   ]
  },
  {
   "cell_type": "code",
   "execution_count": null,
   "metadata": {},
   "outputs": [],
   "source": [
    "def process_data(images, labels, splits):\n",
    "    images = images.reshape(images.shape[0], 32, 32, 3)\n",
    "    images = images.astype('float32')\n",
    "    images /= 255\n",
    "    labels = labels.astype(np.int32)\n",
    "    labels = tf.one_hot(tf.constant(labels), 10)\n",
    "    if splits == 0:\n",
    "        labels = np.array(labels)\n",
    "        labels = labels.reshape(labels.shape[0], 10)\n",
    "        return images, labels\n",
    "    else:\n",
    "        split_images = np.array_split(images, splits)\n",
    "        split_labels = np.array_split(labels, splits)\n",
    "        reshaped_labels = []\n",
    "        for label_portion in split_labels:\n",
    "            reshaped_labels.append(label_portion.reshape(label_portion.shape[0], 10))\n",
    "    return split_images, reshaped_labels\n",
    "\n",
    "def model():\n",
    "    input_shape = (32, 32, 3)\n",
    "    inputs = Input(shape=input_shape)\n",
    "    x = Conv2D(32, (3, 3), activation='relu')(inputs)\n",
    "    x = MaxPooling2D((2, 2))(x)\n",
    "    x = Flatten()(x)\n",
    "    x = Dense(64, activation='relu')(x)\n",
    "    outputs = Dense(10, activation='softmax')(x)\n",
    "    model = Model(inputs, outputs)\n",
    "    model.compile(optimizer='adam', loss='categorical_crossentropy', metrics=['accuracy'])\n",
    "    return model\n",
    "\n",
    "def federated_average(weight1, weight2):\n",
    "    new_weights = np.array(weight1) + np.array(weight2)\n",
    "    new_weights = new_weights / 2\n",
    "    return new_weights.tolist()"
   ]
  },
  {
   "cell_type": "code",
   "execution_count": null,
   "metadata": {},
   "outputs": [],
   "source": [
    "split_images, split_labels = process_data(train_images, train_labels,5)\n",
    "\n",
    "server_model = model()\n",
    "client_1 = model()\n",
    "client_2 = model()\n",
    "\n",
    "server_model.fit(split_images[0], split_labels[0], epochs=1)\n",
    "server_weights = server_model.get_weights()\n",
    "\n",
    "client_1.set_weights(server_weights)\n",
    "client_2.set_weights(server_weights)\n",
    "\n",
    "client_1.fit(split_images[1], split_labels[1], epochs=1)\n",
    "client_1.fit(split_images[2], split_labels[2], epochs=1)\n",
    "client_1_weights = client_1.get_weights()\n",
    "\n",
    "client_2.fit(split_images[3], split_labels[3], epochs=1)\n",
    "client_2.fit(split_images[4], split_labels[4], epochs=1)\n",
    "client_2_weights = client_2.get_weights()"
   ]
  },
  {
   "cell_type": "code",
   "execution_count": null,
   "metadata": {},
   "outputs": [],
   "source": [
    "global_update = federated_average(client_1_weights,client_2_weights)\n",
    "server_model.set_weights(global_update)\n",
    "test_images_proc, test_labels_proc = process_data(test_images, test_labels,0)\n",
    "loss, accuracy = server_model.evaluate(test_images_proc, test_labels_proc)"
   ]
  },
  {
   "cell_type": "code",
   "execution_count": null,
   "metadata": {},
   "outputs": [],
   "source": []
  }
 ],
 "metadata": {
  "kernelspec": {
   "display_name": "ai",
   "language": "python",
   "name": "python3"
  },
  "language_info": {
   "codemirror_mode": {
    "name": "ipython",
    "version": 3
   },
   "file_extension": ".py",
   "mimetype": "text/x-python",
   "name": "python",
   "nbconvert_exporter": "python",
   "pygments_lexer": "ipython3",
   "version": "3.10.9"
  },
  "orig_nbformat": 4,
  "vscode": {
   "interpreter": {
    "hash": "dff652694570d79d7e10fc5f7d3bc899a3339699a23e21d1e9202b31254aa73b"
   }
  }
 },
 "nbformat": 4,
 "nbformat_minor": 2
}
