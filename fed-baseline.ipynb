{
 "cells": [
  {
   "cell_type": "code",
   "execution_count": 1,
   "metadata": {},
   "outputs": [],
   "source": [
    "import tensorflow as tf\n",
    "import tensorflow_federated as tff"
   ]
  },
  {
   "cell_type": "code",
   "execution_count": 2,
   "metadata": {},
   "outputs": [
    {
     "name": "stdout",
     "output_type": "stream",
     "text": [
      "Metal device set to: Apple M1 Pro\n",
      "\n",
      "systemMemory: 16.00 GB\n",
      "maxCacheSize: 5.33 GB\n",
      "\n"
     ]
    }
   ],
   "source": [
    "train_client_spec = tff.simulation.baselines.ClientSpec(\n",
    "    num_epochs=1,\n",
    "    batch_size=32\n",
    ")\n",
    "\n",
    "task = tff.simulation.baselines.emnist.create_character_recognition_task(\n",
    "    train_client_spec,\n",
    "    model_id='cnn',\n",
    "    only_digits=False\n",
    ")"
   ]
  },
  {
   "cell_type": "code",
   "execution_count": 4,
   "metadata": {},
   "outputs": [
    {
     "data": {
      "text/plain": [
       "True"
      ]
     },
     "execution_count": 4,
     "metadata": {},
     "output_type": "execute_result"
    }
   ],
   "source": [
    "isinstance(task.model_fn(), tff.learning.Model)\n"
   ]
  },
  {
   "cell_type": "code",
   "execution_count": 5,
   "metadata": {},
   "outputs": [
    {
     "name": "stdout",
     "output_type": "stream",
     "text": [
      "Split |Dataset Type |Number of Clients |\n",
      "========================================\n",
      "Train |Federated    |3400              |\n",
      "Test  |Federated    |3400              |\n",
      "________________________________________\n",
      "Train Preprocess Function: True\n",
      "Eval Preprocess Function: True\n"
     ]
    }
   ],
   "source": [
    "task.datasets.summary()"
   ]
  },
  {
   "cell_type": "code",
   "execution_count": 7,
   "metadata": {},
   "outputs": [],
   "source": [
    "fed_avg = tff.learning.algorithms.build_weighted_fed_avg(\n",
    "    task.model_fn,\n",
    "    client_optimizer_fn = lambda: tf.keras.optimizers.SGD(learning_rate=0.1),\n",
    ")"
   ]
  },
  {
   "cell_type": "code",
   "execution_count": 8,
   "metadata": {},
   "outputs": [],
   "source": [
    "def client_sel(round_num):\n",
    "    return task.datasets.sample_train_clients(num_clients=5)"
   ]
  },
  {
   "cell_type": "code",
   "execution_count": 9,
   "metadata": {},
   "outputs": [
    {
     "name": "stderr",
     "output_type": "stream",
     "text": [
      "2023-02-28 01:26:31.571679: W tensorflow/core/platform/profile_utils/cpu_utils.cc:128] Failed to get CPU frequency: 0 Hz\n"
     ]
    },
    {
     "ename": "KeyboardInterrupt",
     "evalue": "",
     "output_type": "error",
     "traceback": [
      "\u001b[0;31m---------------------------------------------------------------------------\u001b[0m",
      "\u001b[0;31mKeyboardInterrupt\u001b[0m                         Traceback (most recent call last)",
      "Cell \u001b[0;32mIn[9], line 1\u001b[0m\n\u001b[0;32m----> 1\u001b[0m tff\u001b[39m.\u001b[39;49msimulation\u001b[39m.\u001b[39;49mrun_training_process(\n\u001b[1;32m      2\u001b[0m     fed_avg, client_sel, total_rounds\u001b[39m=\u001b[39;49m\u001b[39m500\u001b[39;49m\n\u001b[1;32m      3\u001b[0m )\n",
      "File \u001b[0;32m~/code/fedavg-cifar10/env-tff3.9/lib/python3.9/site-packages/tensorflow_federated/python/simulation/training_loop.py:167\u001b[0m, in \u001b[0;36mrun_training_process\u001b[0;34m(training_process, training_selection_fn, total_rounds, evaluation_fn, evaluation_selection_fn, rounds_per_evaluation, program_state_manager, rounds_per_saving_program_state, metrics_managers)\u001b[0m\n\u001b[1;32m    165\u001b[0m logging\u001b[39m.\u001b[39minfo(\u001b[39m'\u001b[39m\u001b[39mStarting round \u001b[39m\u001b[39m%d\u001b[39;00m\u001b[39m'\u001b[39m, round_num)\n\u001b[1;32m    166\u001b[0m metrics \u001b[39m=\u001b[39m collections\u001b[39m.\u001b[39mOrderedDict()\n\u001b[0;32m--> 167\u001b[0m state, training_metrics \u001b[39m=\u001b[39m _run_training(training_process\u001b[39m.\u001b[39;49mnext,\n\u001b[1;32m    168\u001b[0m                                         training_selection_fn, state,\n\u001b[1;32m    169\u001b[0m                                         round_num)\n\u001b[1;32m    170\u001b[0m \u001b[39mif\u001b[39;00m metrics_managers \u001b[39mis\u001b[39;00m \u001b[39mnot\u001b[39;00m \u001b[39mNone\u001b[39;00m:\n\u001b[1;32m    171\u001b[0m   metrics\u001b[39m.\u001b[39mupdate(training_metrics)\n",
      "File \u001b[0;32m~/code/fedavg-cifar10/env-tff3.9/lib/python3.9/site-packages/tensorflow_federated/python/simulation/training_loop.py:47\u001b[0m, in \u001b[0;36m_run_training\u001b[0;34m(training_fn, client_selection_fn, state, round_num)\u001b[0m\n\u001b[1;32m     45\u001b[0m training_time_start \u001b[39m=\u001b[39m time\u001b[39m.\u001b[39mtime()\n\u001b[1;32m     46\u001b[0m training_data \u001b[39m=\u001b[39m client_selection_fn(round_num)\n\u001b[0;32m---> 47\u001b[0m state, metrics \u001b[39m=\u001b[39m structure\u001b[39m.\u001b[39mfrom_container(training_fn(state, training_data))\n\u001b[1;32m     48\u001b[0m training_time \u001b[39m=\u001b[39m time\u001b[39m.\u001b[39mtime() \u001b[39m-\u001b[39m training_time_start\n\u001b[1;32m     49\u001b[0m metrics[TRAINING_TIME_KEY] \u001b[39m=\u001b[39m training_time\n",
      "File \u001b[0;32m~/code/fedavg-cifar10/env-tff3.9/lib/python3.9/site-packages/tensorflow_federated/python/core/impl/computation/computation_impl.py:135\u001b[0m, in \u001b[0;36mConcreteComputation.__call__\u001b[0;34m(self, *args, **kwargs)\u001b[0m\n\u001b[1;32m    133\u001b[0m \u001b[39mdef\u001b[39;00m \u001b[39m__call__\u001b[39m(\u001b[39mself\u001b[39m, \u001b[39m*\u001b[39margs, \u001b[39m*\u001b[39m\u001b[39m*\u001b[39mkwargs):\n\u001b[1;32m    134\u001b[0m   arg \u001b[39m=\u001b[39m function_utils\u001b[39m.\u001b[39mpack_args(\u001b[39mself\u001b[39m\u001b[39m.\u001b[39m_type_signature\u001b[39m.\u001b[39mparameter, args, kwargs)\n\u001b[0;32m--> 135\u001b[0m   \u001b[39mreturn\u001b[39;00m \u001b[39mself\u001b[39;49m\u001b[39m.\u001b[39;49m_context_stack\u001b[39m.\u001b[39;49mcurrent\u001b[39m.\u001b[39;49minvoke(\u001b[39mself\u001b[39;49m, arg)\n",
      "File \u001b[0;32m~/code/fedavg-cifar10/env-tff3.9/lib/python3.9/site-packages/tensorflow_federated/python/core/impl/execution_contexts/sync_execution_context.py:67\u001b[0m, in \u001b[0;36mExecutionContext.invoke\u001b[0;34m(self, comp, arg)\u001b[0m\n\u001b[1;32m     66\u001b[0m \u001b[39mdef\u001b[39;00m \u001b[39minvoke\u001b[39m(\u001b[39mself\u001b[39m, comp, arg):\n\u001b[0;32m---> 67\u001b[0m   \u001b[39mreturn\u001b[39;00m \u001b[39mself\u001b[39;49m\u001b[39m.\u001b[39;49m_async_runner\u001b[39m.\u001b[39;49mrun_coro_and_return_result(\n\u001b[1;32m     68\u001b[0m       \u001b[39mself\u001b[39;49m\u001b[39m.\u001b[39;49m_async_context\u001b[39m.\u001b[39;49minvoke(comp, arg))\n",
      "File \u001b[0;32m~/code/fedavg-cifar10/env-tff3.9/lib/python3.9/site-packages/tensorflow_federated/python/common_libs/async_utils.py:223\u001b[0m, in \u001b[0;36mAsyncThreadRunner.run_coro_and_return_result\u001b[0;34m(self, coro)\u001b[0m\n\u001b[1;32m    221\u001b[0m \u001b[39m\u001b[39m\u001b[39m\"\"\"Runs coroutine in the managed event loop, returning the result.\"\"\"\u001b[39;00m\n\u001b[1;32m    222\u001b[0m future \u001b[39m=\u001b[39m asyncio\u001b[39m.\u001b[39mrun_coroutine_threadsafe(coro, \u001b[39mself\u001b[39m\u001b[39m.\u001b[39m_event_loop)\n\u001b[0;32m--> 223\u001b[0m \u001b[39mreturn\u001b[39;00m future\u001b[39m.\u001b[39;49mresult()\n",
      "File \u001b[0;32m/opt/homebrew/Cellar/python@3.9/3.9.16/Frameworks/Python.framework/Versions/3.9/lib/python3.9/concurrent/futures/_base.py:441\u001b[0m, in \u001b[0;36mFuture.result\u001b[0;34m(self, timeout)\u001b[0m\n\u001b[1;32m    438\u001b[0m \u001b[39melif\u001b[39;00m \u001b[39mself\u001b[39m\u001b[39m.\u001b[39m_state \u001b[39m==\u001b[39m FINISHED:\n\u001b[1;32m    439\u001b[0m     \u001b[39mreturn\u001b[39;00m \u001b[39mself\u001b[39m\u001b[39m.\u001b[39m__get_result()\n\u001b[0;32m--> 441\u001b[0m \u001b[39mself\u001b[39;49m\u001b[39m.\u001b[39;49m_condition\u001b[39m.\u001b[39;49mwait(timeout)\n\u001b[1;32m    443\u001b[0m \u001b[39mif\u001b[39;00m \u001b[39mself\u001b[39m\u001b[39m.\u001b[39m_state \u001b[39min\u001b[39;00m [CANCELLED, CANCELLED_AND_NOTIFIED]:\n\u001b[1;32m    444\u001b[0m     \u001b[39mraise\u001b[39;00m CancelledError()\n",
      "File \u001b[0;32m/opt/homebrew/Cellar/python@3.9/3.9.16/Frameworks/Python.framework/Versions/3.9/lib/python3.9/threading.py:312\u001b[0m, in \u001b[0;36mCondition.wait\u001b[0;34m(self, timeout)\u001b[0m\n\u001b[1;32m    310\u001b[0m \u001b[39mtry\u001b[39;00m:    \u001b[39m# restore state no matter what (e.g., KeyboardInterrupt)\u001b[39;00m\n\u001b[1;32m    311\u001b[0m     \u001b[39mif\u001b[39;00m timeout \u001b[39mis\u001b[39;00m \u001b[39mNone\u001b[39;00m:\n\u001b[0;32m--> 312\u001b[0m         waiter\u001b[39m.\u001b[39;49macquire()\n\u001b[1;32m    313\u001b[0m         gotit \u001b[39m=\u001b[39m \u001b[39mTrue\u001b[39;00m\n\u001b[1;32m    314\u001b[0m     \u001b[39melse\u001b[39;00m:\n",
      "\u001b[0;31mKeyboardInterrupt\u001b[0m: "
     ]
    }
   ],
   "source": [
    "tff.simulation.run_training_process(\n",
    "    fed_avg, client_sel, total_rounds=500\n",
    ")"
   ]
  },
  {
   "cell_type": "code",
   "execution_count": null,
   "metadata": {},
   "outputs": [],
   "source": [
    "test_data = task.datasets.get_centralized_test_data()"
   ]
  },
  {
   "cell_type": "code",
   "execution_count": null,
   "metadata": {},
   "outputs": [],
   "source": [
    "eval_process = tff.learning.build_federated_evaluation(task.model_fn)\n"
   ]
  },
  {
   "cell_type": "code",
   "execution_count": null,
   "metadata": {},
   "outputs": [],
   "source": [
    "def validation_fn(state, round_num):\n",
    "    return eval_process(state.model, [test_data])\n"
   ]
  },
  {
   "cell_type": "code",
   "execution_count": null,
   "metadata": {},
   "outputs": [],
   "source": [
    "tff. simulation. run_simulation (\n",
    "process, client_selection_fn, total_rounds 500, validation_fn=validation_fn)"
   ]
  },
  {
   "cell_type": "code",
   "execution_count": null,
   "metadata": {},
   "outputs": [],
   "source": []
  }
 ],
 "metadata": {
  "kernelspec": {
   "display_name": "env-tff3.9",
   "language": "python",
   "name": "python3"
  },
  "language_info": {
   "codemirror_mode": {
    "name": "ipython",
    "version": 3
   },
   "file_extension": ".py",
   "mimetype": "text/x-python",
   "name": "python",
   "nbconvert_exporter": "python",
   "pygments_lexer": "ipython3",
   "version": "3.9.16"
  },
  "orig_nbformat": 4,
  "vscode": {
   "interpreter": {
    "hash": "5f869b07464380aed8a74cbab2cbcd955c60d5d8fe80f858c6bd617a8cebcf8f"
   }
  }
 },
 "nbformat": 4,
 "nbformat_minor": 2
}
